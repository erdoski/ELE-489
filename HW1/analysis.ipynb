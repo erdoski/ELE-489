{
 "cells": [
  {
   "cell_type": "markdown",
   "id": "d4d8174d-483a-4b5f-b52e-e1c18c7542b5",
   "metadata": {},
   "source": [
    " # Import necessary libraries"
   ]
  },
  {
   "cell_type": "code",
   "execution_count": 1,
   "id": "30296ce5-311c-4d77-b425-a4bd59f3941b",
   "metadata": {},
   "outputs": [],
   "source": [
    "import pandas as pd\n",
    "import numpy as np\n",
    "from scipy.stats import mode\n",
    "from sklearn.metrics import confusion_matrix\n",
    "from sklearn.metrics import classification_report"
   ]
  },
  {
   "cell_type": "markdown",
   "id": "b34710b5-c0a7-4b66-ab13-b3ed6c9d5b78",
   "metadata": {},
   "source": [
    "# Load the dataset"
   ]
  },
  {
   "cell_type": "code",
   "execution_count": 2,
   "id": "864a8def-7246-437b-9cfb-3c945123a452",
   "metadata": {},
   "outputs": [
    {
     "name": "stdout",
     "output_type": "stream",
     "text": [
      "     Class  Alcohol  Malic_acid   Ash  Alcalinity_of_ash  Magnesium  \\\n",
      "0        1    14.23        1.71  2.43               15.6        127   \n",
      "1        1    13.20        1.78  2.14               11.2        100   \n",
      "2        1    13.16        2.36  2.67               18.6        101   \n",
      "3        1    14.37        1.95  2.50               16.8        113   \n",
      "4        1    13.24        2.59  2.87               21.0        118   \n",
      "..     ...      ...         ...   ...                ...        ...   \n",
      "173      3    13.71        5.65  2.45               20.5         95   \n",
      "174      3    13.40        3.91  2.48               23.0        102   \n",
      "175      3    13.27        4.28  2.26               20.0        120   \n",
      "176      3    13.17        2.59  2.37               20.0        120   \n",
      "177      3    14.13        4.10  2.74               24.5         96   \n",
      "\n",
      "     Total_phenols  Flavanoids  Nonflavanoid_phenols  Proanthocyanins  \\\n",
      "0             2.80        3.06                  0.28             2.29   \n",
      "1             2.65        2.76                  0.26             1.28   \n",
      "2             2.80        3.24                  0.30             2.81   \n",
      "3             3.85        3.49                  0.24             2.18   \n",
      "4             2.80        2.69                  0.39             1.82   \n",
      "..             ...         ...                   ...              ...   \n",
      "173           1.68        0.61                  0.52             1.06   \n",
      "174           1.80        0.75                  0.43             1.41   \n",
      "175           1.59        0.69                  0.43             1.35   \n",
      "176           1.65        0.68                  0.53             1.46   \n",
      "177           2.05        0.76                  0.56             1.35   \n",
      "\n",
      "     Color_intensity   Hue  OD280/OD315_of_diluted_wines  Proline  \n",
      "0               5.64  1.04                          3.92     1065  \n",
      "1               4.38  1.05                          3.40     1050  \n",
      "2               5.68  1.03                          3.17     1185  \n",
      "3               7.80  0.86                          3.45     1480  \n",
      "4               4.32  1.04                          2.93      735  \n",
      "..               ...   ...                           ...      ...  \n",
      "173             7.70  0.64                          1.74      740  \n",
      "174             7.30  0.70                          1.56      750  \n",
      "175            10.20  0.59                          1.56      835  \n",
      "176             9.30  0.60                          1.62      840  \n",
      "177             9.20  0.61                          1.60      560  \n",
      "\n",
      "[178 rows x 14 columns]\n"
     ]
    }
   ],
   "source": [
    "df = pd.read_csv('wine.data', header=None)\n",
    "columns = [\n",
    "    'Class',\n",
    "    'Alcohol',\n",
    "    'Malic_acid',\n",
    "    'Ash',\n",
    "    'Alcalinity_of_ash',\n",
    "    'Magnesium',\n",
    "    'Total_phenols',\n",
    "    'Flavanoids',\n",
    "    'Nonflavanoid_phenols',\n",
    "    'Proanthocyanins',\n",
    "    'Color_intensity',\n",
    "    'Hue',\n",
    "    'OD280/OD315_of_diluted_wines',\n",
    "    'Proline'\n",
    "]\n",
    "# Add column labels\n",
    "df.columns = columns\n",
    "print(df)"
   ]
  },
  {
   "cell_type": "markdown",
   "id": "a4cafb66-c640-41a2-b4b6-572d96843d05",
   "metadata": {},
   "source": [
    "# For the number of the classes, find the number of train data (%80) for each class\r\n"
   ]
  },
  {
   "cell_type": "code",
   "execution_count": 3,
   "id": "ce1b6138-c18e-4af0-9f04-872ba26bede4",
   "metadata": {},
   "outputs": [
    {
     "name": "stdout",
     "output_type": "stream",
     "text": [
      "[47, 56, 38]\n"
     ]
    }
   ],
   "source": [
    "class_counts = []\n",
    "for i in range(1,4):\n",
    "    count = (df.iloc[:,0] == i).sum()\n",
    "    class_counts.append(count)\n",
    "\n",
    "class_filtered = [int(0.8 * count) for count in class_counts]\n",
    "print(class_filtered)"
   ]
  },
  {
   "cell_type": "markdown",
   "id": "baa6eccd-069b-43fd-810e-ff9810d64d9c",
   "metadata": {},
   "source": [
    "# Separate the data into train and test"
   ]
  },
  {
   "cell_type": "code",
   "execution_count": 4,
   "id": "9585bd84-4c55-4144-a113-395f590017cc",
   "metadata": {},
   "outputs": [],
   "source": [
    "row1 = df[0:class_filtered[0]]\n",
    "row2 = df[class_counts[0]:class_counts[0]+class_filtered[1]]\n",
    "row3 = df[class_counts[0]+class_counts[1]:class_counts[0]+class_counts[1]+class_filtered[2]]\n",
    "\n",
    "train_datas = pd.concat([row1,row2,row3], ignore_index= True)\n",
    "\n",
    "r1 = df[class_filtered[0]:class_counts[0]]\n",
    "r2 = df[class_counts[0]+class_filtered[1]:class_counts[0]+class_counts[1]]\n",
    "r3 = df[class_counts[0] + class_counts[1]+ class_filtered[2]:]\n",
    "\n",
    "test_datas = pd.concat([r1,r2,r3],ignore_index= True)\n",
    "\n",
    "# Remove the class label\n",
    "train_features = train_datas.iloc[:,1:]\n",
    "test_features = test_datas.iloc[:,1:]"
   ]
  },
  {
   "cell_type": "markdown",
   "id": "2004f538-eaf6-47e6-b3c0-d178bd3c1b77",
   "metadata": {},
   "source": [
    "# Normalize the test and train data according to the mean and std of train data\r\n"
   ]
  },
  {
   "cell_type": "code",
   "execution_count": 5,
   "id": "0a0b628c-cb71-4725-b34f-d4b75c842b54",
   "metadata": {},
   "outputs": [
    {
     "name": "stdout",
     "output_type": "stream",
     "text": [
      "      Alcohol  Malic_acid       Ash  Alcalinity_of_ash  Magnesium  \\\n",
      "0    1.544045   -0.504827  0.262782          -1.147671   1.842491   \n",
      "1    0.241375   -0.439240 -0.788604          -2.516667   0.008191   \n",
      "2    0.190786    0.104195  1.132895          -0.214264   0.076128   \n",
      "3    1.721107   -0.279957  0.516565          -0.774308   0.891373   \n",
      "4    0.291964    0.319695  1.857988           0.532461   1.231058   \n",
      "..        ...         ...       ...                ...        ...   \n",
      "136 -0.062160    1.125478 -0.027255          -0.245378   0.415813   \n",
      "137  0.974917    0.478978 -0.208529           0.843596  -0.671180   \n",
      "138  0.911681    1.978108 -0.353547           0.999164  -0.807054   \n",
      "139  0.557557    1.359717  0.879112           1.154732   0.755499   \n",
      "140 -0.239222    1.050521 -0.208529           0.065758  -0.807054   \n",
      "\n",
      "     Total_phenols  Flavanoids  Nonflavanoid_phenols  Proanthocyanins  \\\n",
      "0         0.845939    1.133225             -0.637055         1.253503   \n",
      "1         0.605622    0.818130             -0.793136        -0.478608   \n",
      "2         0.845939    1.322282             -0.480974         2.145282   \n",
      "3         2.528159    1.584861             -0.949217         1.064857   \n",
      "4         0.845939    0.744608              0.221392         0.447471   \n",
      "..             ...         ...                   ...              ...   \n",
      "136      -1.413042   -1.345523              0.299432        -1.061695   \n",
      "137      -1.477127   -1.366529              0.377473        -0.907348   \n",
      "138      -1.589275   -1.587096              1.235919        -0.701553   \n",
      "139      -0.916387   -1.114453              0.533554        -0.169915   \n",
      "140      -1.268852   -1.387536              0.299432        -1.010246   \n",
      "\n",
      "     Color_intensity       Hue  OD280/OD315_of_diluted_wines   Proline  \n",
      "0           0.327074  0.274306                      1.840968  1.016782  \n",
      "1          -0.246945  0.318793                      1.118726  0.968423  \n",
      "2           0.345296  0.229819                      0.799273  1.403657  \n",
      "3           1.311105 -0.526463                      1.188172  2.354725  \n",
      "4          -0.274279  0.274306                      0.465931 -0.047125  \n",
      "..               ...       ...                           ...       ...  \n",
      "136         0.163068 -1.327233                     -1.173002 -0.240562  \n",
      "137         2.122020 -1.238258                     -1.270227 -0.434000  \n",
      "138         0.773532 -0.882361                     -1.173002 -0.740276  \n",
      "139         2.623147 -0.570950                     -1.436898 -0.176083  \n",
      "140         2.431808 -1.149284                     -1.173002 -0.208323  \n",
      "\n",
      "[141 rows x 13 columns]\n"
     ]
    }
   ],
   "source": [
    "train_mean = train_features.mean()\n",
    "train_std = train_features.std()\n",
    "\n",
    "normalized_train_data  = (train_features - train_mean)/train_std\n",
    "normalized_test_data = (test_features - train_mean)/train_std\n",
    "print(normalized_train_data)"
   ]
  },
  {
   "cell_type": "markdown",
   "id": "72c828e8-462f-4691-bca8-7a4273ad99e0",
   "metadata": {},
   "source": [
    "# Add class label to the train data"
   ]
  },
  {
   "cell_type": "code",
   "execution_count": 6,
   "id": "58fe5344-dfbe-4a6f-8984-c83b792dbb48",
   "metadata": {},
   "outputs": [],
   "source": [
    "class_label = np.array(train_datas.iloc[:,0])\n",
    "class_label = class_label.reshape(-1, 1)\n",
    "\n",
    "labeled_norm_train = np.hstack((class_label,np.array(normalized_train_data)))"
   ]
  },
  {
   "cell_type": "markdown",
   "id": "d93470c3-9e0c-4a63-809c-6313808604be",
   "metadata": {},
   "source": [
    "# Select k"
   ]
  },
  {
   "cell_type": "code",
   "execution_count": 7,
   "id": "e4f752bf-6a0a-43cc-8393-d6233df97111",
   "metadata": {},
   "outputs": [],
   "source": [
    "k = 7"
   ]
  },
  {
   "cell_type": "markdown",
   "id": "96387c52-9c9c-4ebc-94b2-7daf4bd9c1a1",
   "metadata": {},
   "source": [
    "# Begin Classification"
   ]
  },
  {
   "cell_type": "code",
   "execution_count": 8,
   "id": "cbebd964-d383-45f0-aeb0-219cc37e033e",
   "metadata": {},
   "outputs": [
    {
     "name": "stdout",
     "output_type": "stream",
     "text": [
      "[[1.]\n",
      " [1.]\n",
      " [1.]\n",
      " [1.]\n",
      " [1.]\n",
      " [1.]\n",
      " [1.]\n",
      " [1.]\n",
      " [1.]\n",
      " [1.]\n",
      " [1.]\n",
      " [1.]\n",
      " [2.]\n",
      " [2.]\n",
      " [2.]\n",
      " [3.]\n",
      " [2.]\n",
      " [2.]\n",
      " [2.]\n",
      " [2.]\n",
      " [2.]\n",
      " [2.]\n",
      " [2.]\n",
      " [2.]\n",
      " [2.]\n",
      " [2.]\n",
      " [2.]\n",
      " [3.]\n",
      " [3.]\n",
      " [3.]\n",
      " [3.]\n",
      " [3.]\n",
      " [3.]\n",
      " [3.]\n",
      " [3.]\n",
      " [3.]\n",
      " [3.]]\n"
     ]
    }
   ],
   "source": [
    "# Initialize the estimated class vector which contains test data which is labeled by KNN\n",
    "estimated_clas = np.zeros((normalized_test_data.shape[0],1))\n",
    "\n",
    "for i in range(normalized_test_data.shape[0]):\n",
    "    # Select a row from test data\n",
    "    test = normalized_test_data.iloc[i,:]\n",
    "    \n",
    "    #Calculate Euclidean distance\n",
    "    cost = (normalized_train_data - test)**2\n",
    "    distances = np.sqrt(np.sum(cost,axis=1))  \n",
    "    \n",
    "    # Sort the distances ascending order\n",
    "    sorted_dist = np.argsort(distances)\n",
    "    \n",
    "    # Select the first k indices for classification\n",
    "    closest_k_indices = np.array(sorted_dist.iloc[0:k])\n",
    "    \n",
    "    # Find the class of corresponding k minimum distances from the train data\n",
    "    closest_class_label = labeled_norm_train[closest_k_indices,0]\n",
    "    \n",
    "    # Find which class number is more frequent\n",
    "    appended_clas = mode(closest_class_label).mode\n",
    "    \n",
    "    # Assign the class to test data\n",
    "    estimated_clas[i,0] = appended_clas\n",
    "\n",
    "print(estimated_clas)"
   ]
  },
  {
   "cell_type": "markdown",
   "id": "20ed9d5c-dc56-494d-a48d-fc3870b19a20",
   "metadata": {},
   "source": [
    "# Select the original class of the test data"
   ]
  },
  {
   "cell_type": "code",
   "execution_count": 9,
   "id": "7573e2d3-82a7-4da0-87e1-a98ca5b587c6",
   "metadata": {},
   "outputs": [
    {
     "name": "stdout",
     "output_type": "stream",
     "text": [
      "[[1]\n",
      " [1]\n",
      " [1]\n",
      " [1]\n",
      " [1]\n",
      " [1]\n",
      " [1]\n",
      " [1]\n",
      " [1]\n",
      " [1]\n",
      " [1]\n",
      " [1]\n",
      " [2]\n",
      " [2]\n",
      " [2]\n",
      " [2]\n",
      " [2]\n",
      " [2]\n",
      " [2]\n",
      " [2]\n",
      " [2]\n",
      " [2]\n",
      " [2]\n",
      " [2]\n",
      " [2]\n",
      " [2]\n",
      " [2]\n",
      " [3]\n",
      " [3]\n",
      " [3]\n",
      " [3]\n",
      " [3]\n",
      " [3]\n",
      " [3]\n",
      " [3]\n",
      " [3]\n",
      " [3]]\n"
     ]
    }
   ],
   "source": [
    "original_class = (np.array(test_datas.iloc[:,0])).reshape(-1,1)\n",
    "print(original_class)"
   ]
  },
  {
   "cell_type": "markdown",
   "id": "a3f7a936-4580-4931-a9b7-d93c2617f8c1",
   "metadata": {},
   "source": [
    "# Print the confusion matrix and classification report"
   ]
  },
  {
   "cell_type": "code",
   "execution_count": 10,
   "id": "bc3e07de-ad6a-473c-abca-150ee208c5dd",
   "metadata": {},
   "outputs": [
    {
     "name": "stdout",
     "output_type": "stream",
     "text": [
      "[[12  0  0]\n",
      " [ 0 14  1]\n",
      " [ 0  0 10]]\n",
      "              precision    recall  f1-score   support\n",
      "\n",
      "           1       1.00      1.00      1.00        12\n",
      "           2       1.00      0.93      0.97        15\n",
      "           3       0.91      1.00      0.95        10\n",
      "\n",
      "    accuracy                           0.97        37\n",
      "   macro avg       0.97      0.98      0.97        37\n",
      "weighted avg       0.98      0.97      0.97        37\n",
      "\n"
     ]
    }
   ],
   "source": [
    "conf_matrix = confusion_matrix(original_class, estimated_clas)\n",
    "print(conf_matrix)\n",
    "print(classification_report(original_class, estimated_clas))"
   ]
  }
 ],
 "metadata": {
  "kernelspec": {
   "display_name": "anaconda-2024.02-py310",
   "language": "python",
   "name": "conda-env-anaconda-2024.02-py310-py"
  },
  "language_info": {
   "codemirror_mode": {
    "name": "ipython",
    "version": 3
   },
   "file_extension": ".py",
   "mimetype": "text/x-python",
   "name": "python",
   "nbconvert_exporter": "python",
   "pygments_lexer": "ipython3",
   "version": "3.10.14"
  }
 },
 "nbformat": 4,
 "nbformat_minor": 5
}
